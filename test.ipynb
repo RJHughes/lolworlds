{
 "cells": [
  {
   "cell_type": "code",
   "execution_count": 51,
   "metadata": {},
   "outputs": [],
   "source": [
    "import numpy as np\n",
    "import pandas as pd"
   ]
  },
  {
   "cell_type": "code",
   "execution_count": 52,
   "metadata": {},
   "outputs": [],
   "source": [
    "data = pd.read_csv('2020_LoL_esports_match_data_from_OraclesElixir_20201001.csv')\n",
    "\n",
    "teams = ['Team Liquid',"
   ]
  },
  {
   "cell_type": "code",
   "execution_count": 55,
   "metadata": {},
   "outputs": [
    {
     "data": {
      "text/plain": [
       "array(['100 Thieves', '100 Thieves Academy', '1907 Fenerbahçe Academy',\n",
       "       '1907 Fenerbahçe Esports', '5 Ronin', '5 Ronin Academy',\n",
       "       '7more7 Pompa Team', 'AGO ROGUE', 'ASUS ROG ELITE', 'AXIZ',\n",
       "       'Afreeca Freecs', 'All Combo', 'All Knights', 'Alpha Esports',\n",
       "       'Asura', 'Avant Gaming', 'Awesome Spear', 'Azules Esports',\n",
       "       'BT Excel', 'Berjaya Dragons', 'Beşiktaş Academy',\n",
       "       'Beşiktaş Esports', 'Bilibili Gaming', 'Bilibili Gaming Junior',\n",
       "       'Burning Core', 'CERBERUS Esports', 'CLG Academy', 'CR4ZY',\n",
       "       'Chiefs Academy', 'Chiefs Esports Club', 'Cloud9',\n",
       "       'Cloud9 Academy', 'Counter Logic Gaming', 'Crest Gaming Act',\n",
       "       'CrowCrowd', 'Cyber Gaming', 'DAMWON Gaming', 'DRX',\n",
       "       'Dark Passage', 'Dark Passage Academy', 'Defusekids',\n",
       "       'DetonatioN FocusMe', 'Dignitas', 'Dignitas Academy', 'Dire Cubs',\n",
       "       'Dire Wolves', 'Dominus Esports', 'Dominus Esports Young',\n",
       "       'Dragon Army', 'EDG Youth Team', 'EDward Gaming', 'EGN Esports',\n",
       "       'ESC Shane', 'EVOS Esports', 'Element Mystic',\n",
       "       'Elements Pro Gaming', 'Evil Geniuses', 'Evil Geniuses Academy',\n",
       "       'Excel Esports', 'FC Schalke 04 Esports',\n",
       "       'FC Schalke 04 Evolution', 'FTV Esports', 'FURIA Esports',\n",
       "       'Falkol', 'Five Kings', 'Flamengo Esports', 'FlyQuest',\n",
       "       'FlyQuest Academy', 'Fnatic', 'Fnatic Rising',\n",
       "       'For The Win Esports', 'Fukuoka SoftBank Hawks gaming',\n",
       "       'FunPlus Phoenix', 'FunPlus Phoenix Blaze', 'Furious Gaming',\n",
       "       'G2 Arctic', 'G2 Esports', 'GAM Esports', 'Galakticos',\n",
       "       'Galakticos Academy', 'Galatasaray Academy', 'Galatasaray Esports',\n",
       "       'Gama Dream', 'Gambit Esports', 'GameWard', 'GamersOrigin',\n",
       "       'Gen.G', 'Golden Guardians', 'Golden Guardians Academy',\n",
       "       'Gravitas', 'Gravitas Academy', 'Griffin', 'Hanwha Life Esports',\n",
       "       'Havan Liberty Academy', 'Havan Liberty Gaming',\n",
       "       'Hong Kong Attitude', 'INTZ', 'IZI Dream', 'Immortals',\n",
       "       'Immortals Academy', 'Impunity', 'Infinity Esports',\n",
       "       'Intergalaxy Tigers Gaming', 'Intrepid Fox Gaming',\n",
       "       'Invictus Gaming', 'Invictus Gaming Young', 'Iron Wolves',\n",
       "       'Isurus', 'J Team', 'JD Gaming', 'Jin Air Green Wings',\n",
       "       'JingNetGame', 'Joy Dream', 'K1ck Neosurf', 'KT Rolster',\n",
       "       'KaBuM! e-Sports', 'Kenty', 'LDLC OL', 'LGD Gaming',\n",
       "       'LGD Gaming Young Team', 'LNG Academy', 'LNG Esports',\n",
       "       'Legacy Esports', 'Legacy Genesis', 'Legend Esport Gaming',\n",
       "       'LinGan e-Sports', 'Liyab Esports', 'LowLandLions',\n",
       "       'Lowkey Esports.Vietnam', 'M19', 'MAD Lions', 'MAD Lions Madrid',\n",
       "       'MAMMOTH', 'Machi Esports', 'Mammoth Academy', 'Misfits Gaming',\n",
       "       'Misfits Premier', 'Movistar Riders', 'Nova Esports', 'ORDER',\n",
       "       'ORDER Academy', 'OZ Gaming', 'Oh My Dream', 'Oh My God',\n",
       "       'One Breath Gaming', 'Origen', 'OverPower Esports', 'PIGSPORTS',\n",
       "       'PSG Talon', 'Papara SuperMassive', 'Pentanet.GG',\n",
       "       'Pentanet.GG Rise', 'Percent Esports', 'Pixel Esports Club',\n",
       "       'Prodigy Esports', 'QUT Tigers', 'RED Canids', 'RMIT Redbacks',\n",
       "       'Racoon', 'Rainbow7', 'Rascal Jester',\n",
       "       'Redemption eSports Porto Alegre', 'Rensga eSports', 'Resurgence',\n",
       "       'Riddle Esports', 'RoX', 'Rogue', 'Rogue Warriors',\n",
       "       'Rogue Warriors Shark', 'Royal Club', 'Royal Never Give Up',\n",
       "       'Royal Youth', 'Royal Youth Academy', 'RunAway',\n",
       "       'SAMCLAN Esports Club', 'SANDBOX Gaming', 'SINNERS Esports',\n",
       "       'SK Gaming', 'Saigon Buffalo', 'Samsung Morning Stars',\n",
       "       'Santos e-Sports', 'Sector One', 'Sengoku Gaming',\n",
       "       'SeolHaeOne Prince', 'Seorabeol Gaming', 'Shu Dai Xiong Gaming',\n",
       "       'Solary', 'Spear Gaming', 'Suning', 'Suning-S',\n",
       "       'SuperMassive Academy', 'SuperMassive Esports', 'SuppUp eSports',\n",
       "       'T1', 'TSM Academy', 'Talon Esports', 'Team AURORA',\n",
       "       'Team AURORA Academy', 'Team Dynamics', 'Team Flash',\n",
       "       'Team GamerLegion', 'Team Liquid', 'Team Liquid Academy',\n",
       "       'Team MCES', 'Team Secret', 'Team Singularity', 'Team SoloMid',\n",
       "       'Team Vitality', 'Team WE', 'Team WE Academy', 'Team oNe eSports',\n",
       "       'Top Esports', 'Top Esports Challenger', 'Triumphant Song Gaming',\n",
       "       'UQ Union', 'UTS Esports', 'Unicorns Of Love.CIS',\n",
       "       'V Gaming Adonis', 'V3 Esports', 'V5 87', 'Vega Squadron',\n",
       "       'Vici Gaming', 'Vici Gaming Potential', 'Victorious Gaming',\n",
       "       'Victory Five', 'Vipers Inc', 'Vitality.Bee', 'Vivo Keyd',\n",
       "       'Vodafone Giants.Spain', 'WLGaming Esports',\n",
       "       'WanZhen Esports Club', 'WhereAreyouFrom', 'XTEN Esports',\n",
       "       'YDN Esports', 'Young Miracles', 'ahq eSports Club', 'eStar',\n",
       "       'eStar Young', 'eSuba', 'hyFresh Blade', 'mousesports',\n",
       "       'optical spectrum E-sports', 'paiN Gaming', 'unknown team',\n",
       "       'İstanbul Wildcats', 'İstanbul Wildcats Academy'], dtype=object)"
      ]
     },
     "execution_count": 55,
     "metadata": {},
     "output_type": "execute_result"
    }
   ],
   "source": [
    "np.unique(data.team)\n"
   ]
  },
  {
   "cell_type": "code",
   "execution_count": 47,
   "metadata": {},
   "outputs": [
    {
     "data": {
      "text/html": [
       "<div>\n",
       "<style scoped>\n",
       "    .dataframe tbody tr th:only-of-type {\n",
       "        vertical-align: middle;\n",
       "    }\n",
       "\n",
       "    .dataframe tbody tr th {\n",
       "        vertical-align: top;\n",
       "    }\n",
       "\n",
       "    .dataframe thead th {\n",
       "        text-align: right;\n",
       "    }\n",
       "</style>\n",
       "<table border=\"1\" class=\"dataframe\">\n",
       "  <thead>\n",
       "    <tr style=\"text-align: right;\">\n",
       "      <th></th>\n",
       "      <th>gameid</th>\n",
       "      <th>datacompleteness</th>\n",
       "      <th>url</th>\n",
       "      <th>league</th>\n",
       "      <th>year</th>\n",
       "      <th>split</th>\n",
       "      <th>playoffs</th>\n",
       "      <th>date</th>\n",
       "      <th>game</th>\n",
       "      <th>patch</th>\n",
       "      <th>...</th>\n",
       "      <th>csdiffat10</th>\n",
       "      <th>goldat15</th>\n",
       "      <th>xpat15</th>\n",
       "      <th>csat15</th>\n",
       "      <th>opp_goldat15</th>\n",
       "      <th>opp_xpat15</th>\n",
       "      <th>opp_csat15</th>\n",
       "      <th>golddiffat15</th>\n",
       "      <th>xpdiffat15</th>\n",
       "      <th>csdiffat15</th>\n",
       "    </tr>\n",
       "  </thead>\n",
       "  <tbody>\n",
       "  </tbody>\n",
       "</table>\n",
       "<p>0 rows × 105 columns</p>\n",
       "</div>"
      ],
      "text/plain": [
       "Empty DataFrame\n",
       "Columns: [gameid, datacompleteness, url, league, year, split, playoffs, date, game, patch, playerid, side, position, player, team, champion, ban1, ban2, ban3, ban4, ban5, gamelength, result, kills, deaths, assists, teamkills, teamdeaths, doublekills, triplekills, quadrakills, pentakills, firstblood, firstbloodkill, firstbloodassist, firstbloodvictim, team kpm, ckpm, firstdragon, dragons, opp_dragons, elementaldrakes, opp_elementaldrakes, infernals, mountains, clouds, oceans, dragons (type unknown), elders, opp_elders, firstherald, heralds, opp_heralds, firstbaron, barons, opp_barons, firsttower, towers, opp_towers, firstmidtower, firsttothreetowers, inhibitors, opp_inhibitors, damagetochampions, dpm, damageshare, damagetakenperminute, damagemitigatedperminute, wardsplaced, wpm, wardskilled, wcpm, controlwardsbought, visionscore, vspm, totalgold, earnedgold, earned gpm, earnedgoldshare, goldspent, gspd, total cs, minionkills, monsterkills, monsterkillsownjungle, monsterkillsenemyjungle, cspm, goldat10, xpat10, csat10, opp_goldat10, opp_xpat10, opp_csat10, golddiffat10, xpdiffat10, csdiffat10, goldat15, xpat15, csat15, opp_goldat15, ...]\n",
       "Index: []\n",
       "\n",
       "[0 rows x 105 columns]"
      ]
     },
     "execution_count": 47,
     "metadata": {},
     "output_type": "execute_result"
    }
   ],
   "source": [
    "data"
   ]
  },
  {
   "cell_type": "code",
   "execution_count": null,
   "metadata": {},
   "outputs": [],
   "source": []
  }
 ],
 "metadata": {
  "kernelspec": {
   "display_name": "Python 3",
   "language": "python",
   "name": "python3"
  },
  "language_info": {
   "codemirror_mode": {
    "name": "ipython",
    "version": 3
   },
   "file_extension": ".py",
   "mimetype": "text/x-python",
   "name": "python",
   "nbconvert_exporter": "python",
   "pygments_lexer": "ipython3",
   "version": "3.8.1"
  }
 },
 "nbformat": 4,
 "nbformat_minor": 4
}
